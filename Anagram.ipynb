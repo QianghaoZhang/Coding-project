{
 "cells": [
  {
   "cell_type": "code",
   "execution_count": 19,
   "metadata": {},
   "outputs": [],
   "source": [
    "\n",
    "#Problem\n",
    "#Given two strings, check to see if they are anagrams. An anagram is when the two strings can be written using the exact same letters (so you can just rearrange the letters to get a different phrase or word).\n",
    "\n",
    "#For example:\n",
    "\n",
    "#\"public relations\" is an anagram of \"crap built on lies.\"\n",
    "\n",
    "#\"clint eastwood\" is an anagram of \"old west action\"\n"
   ]
  },
  {
   "cell_type": "code",
   "execution_count": null,
   "metadata": {},
   "outputs": [],
   "source": [
    "# My method"
   ]
  },
  {
   "cell_type": "code",
   "execution_count": 2,
   "metadata": {},
   "outputs": [],
   "source": [
    "from itertools import permutations"
   ]
  },
  {
   "cell_type": "code",
   "execution_count": 16,
   "metadata": {},
   "outputs": [],
   "source": [
    "#method 1\n",
    "def anagram(s1,s2):\n",
    "    s1_terms = [''.join(i) for i in permutations(s1)]\n",
    "    if s2 in s1_terms:\n",
    "        return True\n",
    "    return False\n",
    "            "
   ]
  },
  {
   "cell_type": "code",
   "execution_count": 17,
   "metadata": {},
   "outputs": [
    {
     "data": {
      "text/plain": [
       "True"
      ]
     },
     "execution_count": 17,
     "metadata": {},
     "output_type": "execute_result"
    }
   ],
   "source": [
    "anagram('dog','god')"
   ]
  },
  {
   "cell_type": "code",
   "execution_count": null,
   "metadata": {},
   "outputs": [],
   "source": [
    "#method2"
   ]
  },
  {
   "cell_type": "code",
   "execution_count": 4,
   "metadata": {},
   "outputs": [],
   "source": [
    "def anagram2(s1,s2):\n",
    "    s1 = s1.replace(' ','').lower()\n",
    "    s2= s2.replace(' ','').lower()\n",
    "    return sorted(s1)==sorted(s2)"
   ]
  },
  {
   "cell_type": "code",
   "execution_count": null,
   "metadata": {},
   "outputs": [],
   "source": []
  },
  {
   "cell_type": "code",
   "execution_count": 5,
   "metadata": {},
   "outputs": [],
   "source": [
    "#method 3"
   ]
  },
  {
   "cell_type": "code",
   "execution_count": 14,
   "metadata": {},
   "outputs": [],
   "source": [
    "def anagram3(s1,s2):\n",
    "    s1 = s1.replace(' ','').lower()\n",
    "    s2= s2.replace(' ','').lower()\n",
    "    \n",
    "    if len(s1) != len(s2):\n",
    "        return False\n",
    "    count = {}\n",
    "    for letter in s1:\n",
    "        if letter in count:\n",
    "             count[letter]+=1\n",
    "        else:\n",
    "             count[letter]=1\n",
    "    for letter in s2:\n",
    "        if letter in count:\n",
    "             count[letter]-=1\n",
    "        else:\n",
    "             count[letter]=1\n",
    "    \n",
    "    for k in count:\n",
    "        if count[k]!=0:\n",
    "            return False\n",
    "        \n",
    "    return True\n",
    "            "
   ]
  },
  {
   "cell_type": "code",
   "execution_count": 15,
   "metadata": {},
   "outputs": [
    {
     "data": {
      "text/plain": [
       "True"
      ]
     },
     "execution_count": 15,
     "metadata": {},
     "output_type": "execute_result"
    }
   ],
   "source": [
    "anagram3('dog','god')"
   ]
  },
  {
   "cell_type": "code",
   "execution_count": null,
   "metadata": {},
   "outputs": [],
   "source": []
  }
 ],
 "metadata": {
  "kernelspec": {
   "display_name": "Python 3",
   "language": "python",
   "name": "python3"
  },
  "language_info": {
   "codemirror_mode": {
    "name": "ipython",
    "version": 3
   },
   "file_extension": ".py",
   "mimetype": "text/x-python",
   "name": "python",
   "nbconvert_exporter": "python",
   "pygments_lexer": "ipython3",
   "version": "3.7.1"
  }
 },
 "nbformat": 4,
 "nbformat_minor": 2
}
